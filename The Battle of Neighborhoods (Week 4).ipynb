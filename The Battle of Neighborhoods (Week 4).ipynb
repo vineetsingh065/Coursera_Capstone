{
    "cells": [
        {
            "metadata": {
                "collapsed": true
            },
            "cell_type": "markdown",
            "source": "## The Battle of Neighborhoods "
        },
        {
            "metadata": {},
            "cell_type": "markdown",
            "source": "### Problem Introduction"
        },
        {
            "metadata": {},
            "cell_type": "markdown",
            "source": "Lot of people migrate to Canada with there family in search of Better Life standered, and because of that most of the time People waste their time/money/energy in search of better Neighborhoods with good housing prices and reputated schools for their children ease of accessing to Cafe, School, Super market, medical shops, grocery shops, mall, theatre, hospital, like minded people, etc.\n\nThis Project aim to create an model of features for a people migrating to Scarborough in search a best neighborhood as a comparative analysis between neighborhoods. The features include median housing price and better school according to ratings, crime rates of that particular area, road connectivity, weather conditions, good management for emergency, water resources both freash and waste water and excrement conveyed in sewers and recreational facilities.\n\nIt will help people to get awareness of the area and neighborhood before moving to a new city, state, country or place for their work or to start a new fresh life."
        },
        {
            "metadata": {},
            "cell_type": "markdown",
            "source": "### Problem to solve"
        },
        {
            "metadata": {},
            "cell_type": "markdown",
            "source": "1. Sorted list of house in terms of housing prices in a ascending or descending order\n2. Sorted list of schools in terms of location, fees, rating and reviews"
        },
        {
            "metadata": {},
            "cell_type": "markdown",
            "source": "### Data Discription\n\nData: https://en.wikipedia.org/wiki/List_of_postal_codes_of_Canada:_M\n\nWill use Scarborough dataset which we scrapped from wikipedia on Week 3. Dataset consisting of latitude and longitude, zip codes"
        },
        {
            "metadata": {},
            "cell_type": "markdown",
            "source": "### Data Flow\n\nUsing credentials of Foursquare API features of near-by places of the neighborhoods will be fetched. \nplaces per neighborhood parameter: 100\nradius parameter: 500"
        },
        {
            "metadata": {},
            "cell_type": "markdown",
            "source": "### Foursquare API\n\nfoursquare api is used for gathering required info for the Scarborough, especially foursquare places API which provides the ability to perform location search, location sharing and details about a business."
        },
        {
            "metadata": {},
            "cell_type": "markdown",
            "source": "### Machine learning Technique (Clustering Approach)\nTo compare the similarities of two cities, we decided to explore neighborhoods, segment them, and group them into clusters to find similar neighborhoods in a big city like New York and Toronto. To be able to do that, we need to cluster data which is a form of unsupervised machine learning: k-means clustering algorithm"
        },
        {
            "metadata": {},
            "cell_type": "markdown",
            "source": "### Libraries Used\n\nPandas: For creating dataframes.\n\nFolium: Python visualization library\n\nScikit Learn: k-means clustering.\n\nJSON:  handle JSON files.\n\nXML: To separate data from presentation and XML stores data in plain text format.\n\nGeocoder:  Location Data.\n\nBeautiful Soup and Requests: To scrap and library to handle http requests.\n\nMatplotlib: Python Plotting Module."
        },
        {
            "metadata": {},
            "cell_type": "code",
            "source": "",
            "execution_count": null,
            "outputs": []
        }
    ],
    "metadata": {
        "kernelspec": {
            "name": "python3",
            "display_name": "Python 3.7",
            "language": "python"
        },
        "language_info": {
            "name": "python",
            "version": "3.7.9",
            "mimetype": "text/x-python",
            "codemirror_mode": {
                "name": "ipython",
                "version": 3
            },
            "pygments_lexer": "ipython3",
            "nbconvert_exporter": "python",
            "file_extension": ".py"
        }
    },
    "nbformat": 4,
    "nbformat_minor": 1
}